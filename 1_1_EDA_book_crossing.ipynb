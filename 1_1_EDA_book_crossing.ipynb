{
 "cells": [
  {
   "cell_type": "code",
   "execution_count": null,
   "metadata": {},
   "outputs": [],
   "source": [
    "import numpy as np\n",
    "import pandas as pd\n",
    "from sklearn.preprocessing import MinMaxScaler\n",
    "from sklearn.model_selection import train_test_split\n",
    "import torch\n",
    "import pickle\n",
    "import matplotlib.pyplot as plt\n",
    "\n",
    "from utils import SEED"
   ]
  },
  {
   "cell_type": "code",
   "execution_count": null,
   "metadata": {},
   "outputs": [],
   "source": [
    "plt.style.use('seaborn-v0_8')"
   ]
  },
  {
   "cell_type": "code",
   "execution_count": null,
   "metadata": {},
   "outputs": [],
   "source": [
    "df = pd.read_csv('data/Book-Crossing/BX-Book-Ratings.csv', sep=';', encoding='latin-1', on_bad_lines='skip')\n",
    "users = pd.read_csv('data/Book-Crossing/BX-Users.csv', sep=';', encoding='latin-1', on_bad_lines='skip')\n",
    "books = pd.read_csv('data/Book-Crossing/BX-Books.csv', sep=';', encoding='latin-1', on_bad_lines='skip')"
   ]
  },
  {
   "cell_type": "code",
   "execution_count": null,
   "metadata": {},
   "outputs": [],
   "source": [
    "df.head()"
   ]
  },
  {
   "cell_type": "code",
   "execution_count": null,
   "metadata": {},
   "outputs": [],
   "source": [
    "users.head()"
   ]
  },
  {
   "cell_type": "code",
   "execution_count": null,
   "metadata": {},
   "outputs": [],
   "source": [
    "books.head()"
   ]
  },
  {
   "cell_type": "code",
   "execution_count": null,
   "metadata": {},
   "outputs": [],
   "source": [
    "bookid_title = pd.Series(books['Book-Title'].values, index=books.ISBN).to_dict()\n",
    "bookid_author = pd.Series(books['Book-Author'].values, index=books.ISBN).to_dict()"
   ]
  },
  {
   "cell_type": "code",
   "execution_count": null,
   "metadata": {},
   "outputs": [],
   "source": [
    "df = df.loc[\n",
    "    df['ISBN'].isin(books['ISBN'].unique()) \n",
    "    & df['User-ID'].isin(users['User-ID'].unique())\n",
    "    ]"
   ]
  },
  {
   "cell_type": "code",
   "execution_count": null,
   "metadata": {},
   "outputs": [],
   "source": [
    "df = df[df['Book-Rating'] >= 8].sample(100000, random_state=SEED)"
   ]
  },
  {
   "cell_type": "code",
   "execution_count": null,
   "metadata": {},
   "outputs": [],
   "source": [
    "books = books[books['ISBN'].isin(df['ISBN'])]\n",
    "users = users[users['User-ID'].isin(df['User-ID'])]"
   ]
  },
  {
   "cell_type": "code",
   "execution_count": null,
   "metadata": {},
   "outputs": [],
   "source": [
    "publisher_counts = books.groupby('Publisher').agg(publisher_count=('ISBN', 'count')).sort_values(by='publisher_count', ascending=False)\n",
    "publisher_counts.head(10)"
   ]
  },
  {
   "cell_type": "code",
   "execution_count": null,
   "metadata": {},
   "outputs": [],
   "source": [
    "figname = 'publishers_count'\n",
    "\n",
    "fig, ax = plt.subplots(1, 2, figsize=(9, 4))\n",
    "ax[0].bar(publisher_counts.head(20).index, publisher_counts.head(20)['publisher_count'])\n",
    "ticks = ax[0].get_xticklabels()\n",
    "ax[0].set_xticks(\n",
    "    [t.get_position()[0] for t in ticks], \n",
    "    [t.get_text() for t in ticks],\n",
    "    rotation=90\n",
    ")\n",
    "ax[1].hist(publisher_counts.values, bins=30)\n",
    "ax[1].set_yscale('log')\n",
    "\n",
    "ax[0].set_xlabel('Publisher', fontweight='bold')\n",
    "ax[0].set_ylabel('Number of Occurrences', fontweight='bold')\n",
    "ax[0].set_title('Top-20 Publishers', fontweight='bold')\n",
    "\n",
    "ax[1].set_xlabel('Number of Occurrences', fontweight='bold')\n",
    "ax[1].set_ylabel('Number of Publishers', fontweight='bold')\n",
    "ax[1].set_title('Publishers Histogram', fontweight='bold');\n",
    "\n",
    "plt.tight_layout()"
   ]
  },
  {
   "cell_type": "code",
   "execution_count": null,
   "metadata": {},
   "outputs": [],
   "source": [
    "books = books.merge(publisher_counts, how='left', left_on='Publisher', right_index=True)\n",
    "books.head()"
   ]
  },
  {
   "cell_type": "code",
   "execution_count": null,
   "metadata": {},
   "outputs": [],
   "source": [
    "mean_publisher_counts = publisher_counts['publisher_count'].median()"
   ]
  },
  {
   "cell_type": "code",
   "execution_count": null,
   "metadata": {},
   "outputs": [],
   "source": [
    "books['publisher_count'] = books['publisher_count'].fillna(mean_publisher_counts)"
   ]
  },
  {
   "cell_type": "code",
   "execution_count": null,
   "metadata": {},
   "outputs": [],
   "source": [
    "author_counts = books.groupby('Book-Author').agg(author_count=('ISBN', 'count')).sort_values(by='author_count', ascending=False)\n",
    "author_counts.head(10)"
   ]
  },
  {
   "cell_type": "code",
   "execution_count": null,
   "metadata": {},
   "outputs": [],
   "source": [
    "figname = 'author_count'\n",
    "\n",
    "fig, ax = plt.subplots(1, 2, figsize=(9, 4))\n",
    "ax[0].bar(author_counts.head(20).index, author_counts.head(20)['author_count'])\n",
    "ticks = ax[0].get_xticklabels()\n",
    "ax[0].set_xticks(\n",
    "    [t.get_position()[0] for t in ticks], \n",
    "    [t.get_text() for t in ticks],\n",
    "    rotation=90\n",
    ")\n",
    "ax[1].hist(author_counts.values, bins=30)\n",
    "ax[1].set_yscale('log')\n",
    "\n",
    "ax[0].set_xlabel('Author', fontweight='bold')\n",
    "ax[0].set_ylabel('Number of Occurrences', fontweight='bold')\n",
    "ax[0].set_title('Top-20 Authors', fontweight='bold')\n",
    "\n",
    "ax[1].set_xlabel('Number of Occurrences', fontweight='bold')\n",
    "ax[1].set_ylabel('Number of Authors', fontweight='bold')\n",
    "ax[1].set_title('Authors Histogram', fontweight='bold');\n",
    "\n",
    "plt.tight_layout()"
   ]
  },
  {
   "cell_type": "code",
   "execution_count": null,
   "metadata": {},
   "outputs": [],
   "source": [
    "books = books.merge(author_counts, how='left', left_on='Book-Author', right_index=True)\n",
    "books.head()"
   ]
  },
  {
   "cell_type": "code",
   "execution_count": null,
   "metadata": {},
   "outputs": [],
   "source": [
    "books = books.drop(columns=['Book-Title', 'Book-Author', 'Publisher', 'Image-URL-S', 'Image-URL-M', 'Image-URL-L'])"
   ]
  },
  {
   "cell_type": "code",
   "execution_count": null,
   "metadata": {},
   "outputs": [],
   "source": [
    "books['Year-Of-Publication'] = books['Year-Of-Publication'].astype(int)"
   ]
  },
  {
   "cell_type": "code",
   "execution_count": null,
   "metadata": {},
   "outputs": [],
   "source": [
    "mean_year_of_publication = books[\n",
    "    (books['Year-Of-Publication'] >= 1950)\n",
    "    & (books['Year-Of-Publication'] <= 2004)\n",
    "    ]['Year-Of-Publication'].mean()\n",
    "mean_year_of_publication = int(mean_year_of_publication)"
   ]
  },
  {
   "cell_type": "code",
   "execution_count": null,
   "metadata": {},
   "outputs": [],
   "source": [
    "books.loc[\n",
    "    (books['Year-Of-Publication'] < 1950) | (books['Year-Of-Publication'] > 2004), 'Year-Of-Publication'\n",
    "    ] = mean_year_of_publication"
   ]
  },
  {
   "cell_type": "code",
   "execution_count": null,
   "metadata": {},
   "outputs": [],
   "source": [
    "figname = 'years_of_publication'\n",
    "\n",
    "fig, ax = plt.subplots(figsize=(4, 4))\n",
    "\n",
    "ax.hist(books['Year-Of-Publication'], bins=10);\n",
    "\n",
    "ax.set_xlabel('Year', fontweight='bold')\n",
    "ax.set_ylabel('Number of Occurrences', fontweight='bold')\n",
    "ax.set_title('Year Of Publication Histogram', fontweight='bold')\n",
    "\n",
    "plt.tight_layout()"
   ]
  },
  {
   "cell_type": "code",
   "execution_count": null,
   "metadata": {},
   "outputs": [],
   "source": [
    "books_year_scaler = MinMaxScaler()\n",
    "books_year_scaled = books_year_scaler.fit_transform(books['Year-Of-Publication'].values.reshape(-1, 1))\n",
    "books['Year-Of-Publication'] = books_year_scaled"
   ]
  },
  {
   "cell_type": "code",
   "execution_count": null,
   "metadata": {},
   "outputs": [],
   "source": [
    "books_publisher_count_scaler = MinMaxScaler()\n",
    "books_publisher_count_scaled = books_year_scaler.fit_transform(books['publisher_count'].values.reshape(-1, 1))\n",
    "books['publisher_count'] = books_publisher_count_scaled"
   ]
  },
  {
   "cell_type": "code",
   "execution_count": null,
   "metadata": {},
   "outputs": [],
   "source": [
    "books['author_count'].hist()"
   ]
  },
  {
   "cell_type": "code",
   "execution_count": null,
   "metadata": {},
   "outputs": [],
   "source": [
    "books['author_count'] = np.log(books['author_count'])"
   ]
  },
  {
   "cell_type": "code",
   "execution_count": null,
   "metadata": {},
   "outputs": [],
   "source": [
    "books['author_count'].hist()"
   ]
  },
  {
   "cell_type": "code",
   "execution_count": null,
   "metadata": {},
   "outputs": [],
   "source": [
    "books_author_count_scaler = MinMaxScaler()\n",
    "books_author_count_scaled = books_year_scaler.fit_transform(books['author_count'].values.reshape(-1, 1))\n",
    "books['author_count'] = books_author_count_scaled"
   ]
  },
  {
   "cell_type": "code",
   "execution_count": null,
   "metadata": {},
   "outputs": [],
   "source": [
    "books.head()"
   ]
  },
  {
   "cell_type": "code",
   "execution_count": null,
   "metadata": {},
   "outputs": [],
   "source": [
    "mean_author_count = books['author_count'].mean()\n",
    "mean_author_count"
   ]
  },
  {
   "cell_type": "code",
   "execution_count": null,
   "metadata": {},
   "outputs": [],
   "source": [
    "books['author_count'] = books['author_count'].fillna(mean_author_count)"
   ]
  },
  {
   "cell_type": "code",
   "execution_count": null,
   "metadata": {},
   "outputs": [],
   "source": [
    "users.head()"
   ]
  },
  {
   "cell_type": "code",
   "execution_count": null,
   "metadata": {},
   "outputs": [],
   "source": [
    "users.loc[:, 'Country'] = users['Location'].apply(lambda x: x.split(', ')[-1])"
   ]
  },
  {
   "cell_type": "code",
   "execution_count": null,
   "metadata": {},
   "outputs": [],
   "source": [
    "country_counts = users.groupby('Country').agg(country_count=('User-ID', 'count')).sort_values(by='country_count', ascending=False)\n",
    "country_counts.head(10)"
   ]
  },
  {
   "cell_type": "code",
   "execution_count": null,
   "metadata": {},
   "outputs": [],
   "source": [
    "country_counts.iloc[1:].sum()"
   ]
  },
  {
   "cell_type": "code",
   "execution_count": null,
   "metadata": {},
   "outputs": [],
   "source": [
    "country_counts.iloc[0]"
   ]
  },
  {
   "cell_type": "code",
   "execution_count": null,
   "metadata": {},
   "outputs": [],
   "source": [
    "figname = 'country_count'\n",
    "\n",
    "fig, ax = plt.subplots(1, 2, figsize=(9, 4))\n",
    "ax[0].bar(\n",
    "    country_counts[country_counts.index!=','].head(20).index, \n",
    "    country_counts[country_counts.index!=','].head(20)['country_count']\n",
    "    )\n",
    "ticks = ax[0].get_xticklabels()\n",
    "ax[0].set_xticks(\n",
    "    [t.get_position()[0] for t in ticks], \n",
    "    [t.get_text() for t in ticks],\n",
    "    rotation=90\n",
    ")\n",
    "ax[1].hist(author_counts.values, bins=30)\n",
    "# ax[1].set_yscale('log')\n",
    "\n",
    "ax[0].set_xlabel('Country', fontweight='bold')\n",
    "ax[0].set_ylabel('Number of Occurrences', fontweight='bold')\n",
    "ax[0].set_title('Top-20 Countries', fontweight='bold')\n",
    "\n",
    "ax[1].set_xlabel('Number of Occurrences', fontweight='bold')\n",
    "ax[1].set_ylabel('Number of Countries', fontweight='bold')\n",
    "ax[1].set_title('Countries Histogram', fontweight='bold');\n",
    "\n",
    "plt.tight_layout()"
   ]
  },
  {
   "cell_type": "code",
   "execution_count": null,
   "metadata": {},
   "outputs": [],
   "source": [
    "users = users.merge(country_counts, how='left', left_on='Country', right_index=True)\n",
    "users.head()"
   ]
  },
  {
   "cell_type": "code",
   "execution_count": null,
   "metadata": {},
   "outputs": [],
   "source": [
    "users['Age'].isna().sum() / users['Age'].count()"
   ]
  },
  {
   "cell_type": "code",
   "execution_count": null,
   "metadata": {},
   "outputs": [],
   "source": [
    "users.loc[users['Age'] < 10, 'Age'] = np.nan\n",
    "users.loc[users['Age'] > 90, 'Age'] = np.nan"
   ]
  },
  {
   "cell_type": "code",
   "execution_count": null,
   "metadata": {},
   "outputs": [],
   "source": [
    "users_mean_age = int(users['Age'].mean())\n",
    "users_mean_age"
   ]
  },
  {
   "cell_type": "code",
   "execution_count": null,
   "metadata": {},
   "outputs": [],
   "source": [
    "users.loc[:, 'Age'].fillna(users_mean_age, inplace=True)"
   ]
  },
  {
   "cell_type": "code",
   "execution_count": null,
   "metadata": {},
   "outputs": [],
   "source": [
    "figname = 'users_age'\n",
    "\n",
    "fig, ax = plt.subplots(figsize=(4, 4))\n",
    "\n",
    "ax.hist(users['Age'], bins=10);\n",
    "\n",
    "ax.set_xlabel('Age', fontweight='bold')\n",
    "ax.set_ylabel('Number of Occurrences', fontweight='bold')\n",
    "ax.set_title('Useres Age Histogram', fontweight='bold')\n",
    "\n",
    "plt.tight_layout()"
   ]
  },
  {
   "cell_type": "code",
   "execution_count": null,
   "metadata": {},
   "outputs": [],
   "source": [
    "users_age_scaler = MinMaxScaler()\n",
    "users_age_scaled = users_age_scaler.fit_transform(users['Age'].values.reshape(-1, 1))\n",
    "users['Age'] = users_age_scaled"
   ]
  },
  {
   "cell_type": "code",
   "execution_count": null,
   "metadata": {},
   "outputs": [],
   "source": [
    "users['country_count'].hist()"
   ]
  },
  {
   "cell_type": "code",
   "execution_count": null,
   "metadata": {},
   "outputs": [],
   "source": [
    "users['country_count'] = np.where(users['country_count'] > 15000, 1, 0)"
   ]
  },
  {
   "cell_type": "code",
   "execution_count": null,
   "metadata": {},
   "outputs": [],
   "source": [
    "users.drop(columns=['Location', 'Country'], inplace=True)"
   ]
  },
  {
   "cell_type": "code",
   "execution_count": null,
   "metadata": {},
   "outputs": [],
   "source": [
    "users.head()"
   ]
  },
  {
   "cell_type": "code",
   "execution_count": null,
   "metadata": {},
   "outputs": [],
   "source": [
    "user_mapping = {userid: i for i, userid in enumerate(df['User-ID'].unique())}\n",
    "item_mapping = {isbn: i for i, isbn in enumerate(df['ISBN'].unique())}\n",
    "\n",
    "user_mapping_inv = {v: k for k, v in user_mapping.items()}\n",
    "item_mapping_inv = {v: k for k, v in item_mapping.items()}"
   ]
  },
  {
   "cell_type": "code",
   "execution_count": null,
   "metadata": {},
   "outputs": [],
   "source": [
    "num_users = len(user_mapping)\n",
    "num_items = len(item_mapping)\n",
    "num_total = num_users + num_items\n",
    "\n",
    "user_ids = torch.LongTensor([user_mapping[i] for i in df['User-ID']])\n",
    "item_ids = torch.LongTensor([item_mapping[i] for i in df['ISBN']])\n",
    "edge_index = torch.stack((user_ids, item_ids))"
   ]
  },
  {
   "cell_type": "code",
   "execution_count": null,
   "metadata": {},
   "outputs": [],
   "source": [
    "users.loc[:, 'ID'] = users.loc[:, 'User-ID'].apply(lambda i: user_mapping[i])\n",
    "users.sort_values(by='ID', inplace=True)"
   ]
  },
  {
   "cell_type": "code",
   "execution_count": null,
   "metadata": {},
   "outputs": [],
   "source": [
    "books.loc[:, 'ID'] = books.loc[:, 'ISBN'].apply(lambda i: item_mapping[i])\n",
    "books.sort_values(by='ID', inplace=True)"
   ]
  },
  {
   "cell_type": "code",
   "execution_count": null,
   "metadata": {},
   "outputs": [],
   "source": [
    "users_features = torch.Tensor(users.drop(columns=['User-ID', 'ID']).values)\n",
    "items_features = torch.Tensor(books.drop(columns=['ISBN', 'ID']).values)"
   ]
  },
  {
   "cell_type": "code",
   "execution_count": null,
   "metadata": {},
   "outputs": [],
   "source": [
    "train_index, val_index = train_test_split(range(len(df)), test_size=0.25, random_state=SEED)\n",
    "\n",
    "train_edge_index = edge_index[:, train_index]\n",
    "val_edge_index = edge_index[:, val_index]"
   ]
  },
  {
   "cell_type": "code",
   "execution_count": null,
   "metadata": {},
   "outputs": [],
   "source": [
    "book_crossing_dataset = {\n",
    "    'users_features': users_features,\n",
    "    'items_features': items_features,\n",
    "    'train_edge_index': train_edge_index,\n",
    "    'val_edge_index': val_edge_index\n",
    "}"
   ]
  },
  {
   "cell_type": "code",
   "execution_count": null,
   "metadata": {},
   "outputs": [],
   "source": [
    "cold_users_mask = ~torch.isin(val_edge_index[0, :].unique(), train_edge_index[0, :].unique())\n",
    "cold_users = val_edge_index[0, :].unique()[cold_users_mask]\n",
    "n_cold_users = len(cold_users)\n",
    "n_users = val_edge_index[0, :].unique().shape[0]\n",
    "n_cold_users / n_users"
   ]
  },
  {
   "cell_type": "code",
   "execution_count": null,
   "metadata": {},
   "outputs": [],
   "source": [
    "cold_items_mask = ~torch.isin(val_edge_index[1, :].unique(), train_edge_index[1, :].unique())\n",
    "cold_items = val_edge_index[1, :].unique()[cold_items_mask]\n",
    "n_cold_items = len(cold_items)\n",
    "n_items = val_edge_index[0, :].unique().shape[0]\n",
    "n_cold_items / n_items"
   ]
  },
  {
   "cell_type": "code",
   "execution_count": null,
   "metadata": {},
   "outputs": [],
   "source": [
    "with open('datasets/book_crossing_dataset.bin', 'wb') as f:\n",
    "    pickle.dump(book_crossing_dataset, f)"
   ]
  }
 ],
 "metadata": {
  "kernelspec": {
   "display_name": ".venv",
   "language": "python",
   "name": "python3"
  },
  "language_info": {
   "codemirror_mode": {
    "name": "ipython",
    "version": 3
   },
   "file_extension": ".py",
   "mimetype": "text/x-python",
   "name": "python",
   "nbconvert_exporter": "python",
   "pygments_lexer": "ipython3",
   "version": "3.12.7"
  }
 },
 "nbformat": 4,
 "nbformat_minor": 2
}
