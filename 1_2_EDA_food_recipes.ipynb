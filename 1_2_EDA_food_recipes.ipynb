{
 "cells": [
  {
   "cell_type": "code",
   "execution_count": null,
   "metadata": {},
   "outputs": [],
   "source": [
    "import ast\n",
    "\n",
    "import torch\n",
    "import numpy as np\n",
    "import pandas as pd\n",
    "from sklearn.model_selection import train_test_split\n",
    "from sklearn.feature_extraction.text import CountVectorizer\n",
    "from sklearn.decomposition import TruncatedSVD\n",
    "from sklearn.cluster import KMeans\n",
    "from sklearn.preprocessing import MinMaxScaler\n",
    "from sklearn.preprocessing import OneHotEncoder\n",
    "import pickle\n",
    "import matplotlib.pyplot as plt\n",
    "\n",
    "from utils import SEED"
   ]
  },
  {
   "cell_type": "code",
   "execution_count": null,
   "metadata": {},
   "outputs": [],
   "source": [
    "plt.style.use('seaborn-v0_8')"
   ]
  },
  {
   "cell_type": "code",
   "execution_count": null,
   "metadata": {},
   "outputs": [],
   "source": [
    "DATA_DIR = 'data/Food_com_Recipes/'"
   ]
  },
  {
   "cell_type": "code",
   "execution_count": null,
   "metadata": {},
   "outputs": [],
   "source": [
    "interactions_train = pd.read_csv(DATA_DIR + 'interactions_train.csv')"
   ]
  },
  {
   "cell_type": "code",
   "execution_count": null,
   "metadata": {},
   "outputs": [],
   "source": [
    "interactions_train.head()"
   ]
  },
  {
   "cell_type": "code",
   "execution_count": null,
   "metadata": {},
   "outputs": [],
   "source": [
    "interactions_train['rating'].unique()"
   ]
  },
  {
   "cell_type": "code",
   "execution_count": null,
   "metadata": {},
   "outputs": [],
   "source": [
    "RAW_recipes = pd.read_csv(DATA_DIR + 'RAW_recipes.csv')"
   ]
  },
  {
   "cell_type": "code",
   "execution_count": null,
   "metadata": {},
   "outputs": [],
   "source": [
    "RAW_recipes.head()"
   ]
  },
  {
   "cell_type": "code",
   "execution_count": null,
   "metadata": {},
   "outputs": [],
   "source": [
    "RAW_recipes.dtypes"
   ]
  },
  {
   "cell_type": "code",
   "execution_count": null,
   "metadata": {},
   "outputs": [],
   "source": [
    "RAW_recipes['nutrition'] = RAW_recipes['nutrition'].apply(ast.literal_eval)\n",
    "RAW_recipes['ingredients'] = RAW_recipes['ingredients'].apply(ast.literal_eval)"
   ]
  },
  {
   "cell_type": "code",
   "execution_count": null,
   "metadata": {},
   "outputs": [],
   "source": [
    "def get_ingredient(row):\n",
    "    for i, v in enumerate(row):\n",
    "        row[i] = v.replace(' ', '_').replace('-', '_')\n",
    "    return ' '.join(row)"
   ]
  },
  {
   "cell_type": "code",
   "execution_count": null,
   "metadata": {},
   "outputs": [],
   "source": [
    "ingredients = RAW_recipes['ingredients'].apply(get_ingredient)"
   ]
  },
  {
   "cell_type": "code",
   "execution_count": null,
   "metadata": {},
   "outputs": [],
   "source": [
    "ingridients_counts = RAW_recipes['ingredients'].explode().value_counts().values"
   ]
  },
  {
   "cell_type": "code",
   "execution_count": null,
   "metadata": {},
   "outputs": [],
   "source": [
    "RAW_recipes['ingredients'].explode().value_counts().head(10).to_frame()"
   ]
  },
  {
   "cell_type": "code",
   "execution_count": null,
   "metadata": {},
   "outputs": [],
   "source": [
    "RAW_recipes['ingredients'].explode().value_counts().tail(10).to_frame()"
   ]
  },
  {
   "cell_type": "code",
   "execution_count": null,
   "metadata": {},
   "outputs": [],
   "source": [
    "n_recipes = RAW_recipes.shape[0]"
   ]
  },
  {
   "cell_type": "code",
   "execution_count": null,
   "metadata": {},
   "outputs": [],
   "source": [
    "fig, ax = plt.subplots(figsize=(8, 4))\n",
    "\n",
    "ax.hist(ingridients_counts / n_recipes, bins=20)\n",
    "\n",
    "ax.set_xlabel('Frequency of Ingridient Occurrences', fontweight='bold')\n",
    "ax.set_ylabel('Number of Occurrences', fontweight='bold')\n",
    "ax.set_title('Destribution of Frequency of Ingridients Occurrences', fontweight='bold')\n",
    "\n",
    "ax.set_yscale('log')"
   ]
  },
  {
   "cell_type": "code",
   "execution_count": null,
   "metadata": {},
   "outputs": [],
   "source": [
    "ingridients_counts_threshold = 10\n",
    "max_features = ingridients_counts[ingridients_counts > ingridients_counts_threshold].shape[0]"
   ]
  },
  {
   "cell_type": "code",
   "execution_count": null,
   "metadata": {},
   "outputs": [],
   "source": [
    "vectorizer = CountVectorizer(max_features=max_features)\n",
    "bow_matrix = vectorizer.fit_transform(ingredients)"
   ]
  },
  {
   "cell_type": "code",
   "execution_count": null,
   "metadata": {},
   "outputs": [],
   "source": [
    "n_components = 10\n",
    "svd = TruncatedSVD(n_components=n_components)\n",
    "embeddings = svd.fit_transform(bow_matrix)\n",
    "\n",
    "svd = TruncatedSVD(n_components=2)\n",
    "embeddings_2d_svd = svd.fit_transform(bow_matrix)"
   ]
  },
  {
   "cell_type": "code",
   "execution_count": null,
   "metadata": {},
   "outputs": [],
   "source": [
    "plt.figure(figsize=(8, 8))\n",
    "plt.scatter(embeddings_2d_svd[:, 0], embeddings_2d_svd[:, 1], alpha=0.1, s=2)"
   ]
  },
  {
   "cell_type": "code",
   "execution_count": null,
   "metadata": {},
   "outputs": [],
   "source": [
    "n_clusters = 4 \n",
    "kmeans = KMeans(n_clusters=n_clusters, random_state=42)\n",
    "cluster = kmeans.fit_predict(embeddings)"
   ]
  },
  {
   "cell_type": "code",
   "execution_count": null,
   "metadata": {},
   "outputs": [],
   "source": [
    "fig, axs = plt.subplots(1, 2, figsize=(8, 4))\n",
    "axs[0].scatter(embeddings_2d_svd[:, 0], embeddings_2d_svd[:, 1], alpha=0.05, s=1)\n",
    "axs[1].scatter(embeddings_2d_svd[:, 0], embeddings_2d_svd[:, 1], alpha=0.05, s=1, c=cluster, cmap='viridis')\n",
    "axs[0].set_title('Ingredients embeddings projection', fontweight='bold', fontsize=12)\n",
    "axs[1].set_title('Ingredients embeddings projection\\n+ clustering', fontweight='bold', fontsize=12)"
   ]
  },
  {
   "cell_type": "code",
   "execution_count": null,
   "metadata": {},
   "outputs": [],
   "source": [
    "plt.figure(figsize=(8, 8))\n",
    "plt.scatter(embeddings_2d_svd[:, 0], embeddings_2d_svd[:, 1], alpha=0.1, s=2, c=cluster, cmap='viridis')"
   ]
  },
  {
   "cell_type": "code",
   "execution_count": null,
   "metadata": {},
   "outputs": [],
   "source": [
    "enc = OneHotEncoder(handle_unknown='ignore')\n",
    "clusters_encoded = enc.fit_transform(cluster.reshape(-1, 1)).toarray()"
   ]
  },
  {
   "cell_type": "code",
   "execution_count": null,
   "metadata": {},
   "outputs": [],
   "source": [
    "processed_recipes = pd.DataFrame(columns=[f'cluster_{i}' for i in range(4)], data=clusters_encoded)"
   ]
  },
  {
   "cell_type": "code",
   "execution_count": null,
   "metadata": {},
   "outputs": [],
   "source": [
    "processed_recipes['recipe_ID'] = RAW_recipes['id']\n",
    "processed_recipes['minutes'] = RAW_recipes['minutes']\n",
    "processed_recipes['calories'] = RAW_recipes['nutrition'].apply(lambda x: x[0])\n",
    "processed_recipes['total_fat'] = RAW_recipes['nutrition'].apply(lambda x: x[1] +x[5])\n",
    "processed_recipes['carbs'] = RAW_recipes['nutrition'].apply(lambda x: x[-1])\n",
    "processed_recipes['protein'] = RAW_recipes['nutrition'].apply(lambda x: x[4])\n",
    "processed_recipes['sugar'] = RAW_recipes['nutrition'].apply(lambda x: x[2])"
   ]
  },
  {
   "cell_type": "code",
   "execution_count": null,
   "metadata": {},
   "outputs": [],
   "source": [
    "processed_recipes.head()"
   ]
  },
  {
   "cell_type": "code",
   "execution_count": null,
   "metadata": {},
   "outputs": [],
   "source": [
    "processed_recipes['minutes'] = np.where(processed_recipes['minutes'] > 60*10, 60*10, processed_recipes['minutes'])"
   ]
  },
  {
   "cell_type": "code",
   "execution_count": null,
   "metadata": {},
   "outputs": [],
   "source": [
    "def process_feature_with_outliers(_feature, _q=0.99):\n",
    "    q = np.quantile(_feature, _q)\n",
    "    _feature = np.where(_feature > q, q, _feature)\n",
    "    if (_feature == 0).any():\n",
    "        _feature += 1\n",
    "    _feature = np.log(_feature)\n",
    "    return _feature"
   ]
  },
  {
   "cell_type": "code",
   "execution_count": null,
   "metadata": {},
   "outputs": [],
   "source": [
    "features_to_transform = ['minutes', 'calories', 'total_fat', 'carbs', 'protein', 'sugar']"
   ]
  },
  {
   "cell_type": "code",
   "execution_count": null,
   "metadata": {},
   "outputs": [],
   "source": [
    "fig, axs = plt.subplots(2, 6, figsize=(10, 5))\n",
    "\n",
    "for i in range(6):\n",
    "    axs[0, i].hist(processed_recipes[features_to_transform[i]]);\n",
    "    axs[0, i].set_title(features_to_transform[i], fontweight='bold', fontsize=12)\n",
    "    axs[1, i].hist(process_feature_with_outliers(processed_recipes[features_to_transform[i]]))\n",
    "    if i == 0:\n",
    "        axs[0, i].set_ylabel('Before transformation', fontweight='bold', fontsize=12)\n",
    "        axs[1, i].set_ylabel('After transformation', fontweight='bold', fontsize=12)\n",
    "    for axis in ['x', 'y']:\n",
    "        for j in range(2):\n",
    "            axs[j, i].tick_params(axis=axis, labelsize=7)\n",
    "plt.tight_layout()"
   ]
  },
  {
   "cell_type": "code",
   "execution_count": null,
   "metadata": {},
   "outputs": [],
   "source": [
    "scaler = MinMaxScaler()"
   ]
  },
  {
   "cell_type": "code",
   "execution_count": null,
   "metadata": {},
   "outputs": [],
   "source": [
    "for col in features_to_transform:\n",
    "    processed_recipes[col] = process_feature_with_outliers(processed_recipes[col])\n",
    "    processed_recipes[col] = scaler.fit_transform(processed_recipes[col].values.reshape(-1, 1))"
   ]
  },
  {
   "cell_type": "code",
   "execution_count": null,
   "metadata": {},
   "outputs": [],
   "source": [
    "processed_recipes.iloc[:, 5:]"
   ]
  },
  {
   "cell_type": "code",
   "execution_count": null,
   "metadata": {},
   "outputs": [],
   "source": [
    "PP_users = pd.read_csv(DATA_DIR + 'PP_users.csv')"
   ]
  },
  {
   "cell_type": "code",
   "execution_count": null,
   "metadata": {},
   "outputs": [],
   "source": [
    "interactions_train = pd.read_csv(DATA_DIR + 'interactions_train.csv')\n",
    "interactions_validation = pd.read_csv(DATA_DIR + 'interactions_validation.csv')\n",
    "interaction_test = pd.read_csv(DATA_DIR + 'interactions_test.csv')"
   ]
  },
  {
   "cell_type": "code",
   "execution_count": null,
   "metadata": {},
   "outputs": [],
   "source": [
    "interactions = pd.concat((interactions_train, interactions_validation, interaction_test))"
   ]
  },
  {
   "cell_type": "code",
   "execution_count": null,
   "metadata": {},
   "outputs": [],
   "source": [
    "number_of_interactions = interactions.groupby('user_id').count().sort_values('recipe_id', ascending=False)['recipe_id'].values"
   ]
  },
  {
   "cell_type": "code",
   "execution_count": null,
   "metadata": {},
   "outputs": [],
   "source": [
    "fig, ax = plt.subplots(figsize=(8, 4))\n",
    "ax.hist(number_of_interactions)\n",
    "ax.set_yscale('log')\n",
    "\n",
    "ax.set_xlabel('Number of Interactions', fontweight='bold')\n",
    "ax.set_ylabel('Number of Occurrences', fontweight='bold')\n",
    "ax.set_title('Destribution of the Number of Interactions', fontweight='bold');"
   ]
  },
  {
   "cell_type": "code",
   "execution_count": null,
   "metadata": {},
   "outputs": [],
   "source": [
    "interactions = interactions[interactions['rating'] >= 4].sample(200000, random_state=SEED)"
   ]
  },
  {
   "cell_type": "code",
   "execution_count": null,
   "metadata": {},
   "outputs": [],
   "source": [
    "interactions.head()"
   ]
  },
  {
   "cell_type": "code",
   "execution_count": null,
   "metadata": {},
   "outputs": [],
   "source": [
    "common_user_ids = np.intersect1d(\n",
    "    np.unique(interactions['u'].values), \n",
    "    np.unique(PP_users['u'].values)\n",
    "    )\n",
    "\n",
    "common_items_ids = np.intersect1d(\n",
    "    np.unique(interactions['recipe_id'].values), \n",
    "    np.unique(processed_recipes['recipe_ID'].values)\n",
    "    )"
   ]
  },
  {
   "cell_type": "code",
   "execution_count": null,
   "metadata": {},
   "outputs": [],
   "source": [
    "interactions = interactions[\n",
    "    interactions['u'].isin(common_user_ids)\n",
    "    & interactions['recipe_id'].isin(common_items_ids)\n",
    "]\n",
    "\n",
    "processed_recipes = processed_recipes[\n",
    "    processed_recipes['recipe_ID'].isin(common_items_ids)\n",
    "]\n",
    "\n",
    "PP_users = PP_users[\n",
    "    PP_users['u'].isin(common_user_ids)\n",
    "]"
   ]
  },
  {
   "cell_type": "code",
   "execution_count": null,
   "metadata": {},
   "outputs": [],
   "source": [
    "user_mapping = {userid: i for i, userid in enumerate(interactions['u'].unique())}\n",
    "item_mapping = {recipeid: i for i, recipeid in enumerate(interactions['recipe_id'].unique())}"
   ]
  },
  {
   "cell_type": "code",
   "execution_count": null,
   "metadata": {},
   "outputs": [],
   "source": [
    "user_ids = torch.LongTensor([user_mapping[i] for i in interactions['u']])\n",
    "item_ids = torch.LongTensor([item_mapping[i] for i in interactions['recipe_id']])\n",
    "edge_index = torch.stack((user_ids, item_ids))"
   ]
  },
  {
   "cell_type": "code",
   "execution_count": null,
   "metadata": {},
   "outputs": [],
   "source": [
    "train_index, val_index = train_test_split(range(len(interactions)), test_size=0.25, random_state=SEED)\n",
    "\n",
    "train_edge_index = edge_index[:, train_index]\n",
    "val_edge_index = edge_index[:, val_index]"
   ]
  },
  {
   "cell_type": "code",
   "execution_count": null,
   "metadata": {},
   "outputs": [],
   "source": [
    "processed_recipes.loc[:, 'ID'] = processed_recipes.loc[:, 'recipe_ID'].apply(lambda i: item_mapping[i])\n",
    "processed_recipes.sort_values(by='ID', inplace=True)"
   ]
  },
  {
   "cell_type": "code",
   "execution_count": null,
   "metadata": {},
   "outputs": [],
   "source": [
    "items_features = torch.Tensor(processed_recipes.drop(columns=['recipe_ID', 'ID']).values)"
   ]
  },
  {
   "cell_type": "code",
   "execution_count": null,
   "metadata": {},
   "outputs": [],
   "source": [
    "users_features = torch.Tensor(np.zeros(PP_users.shape[0]).reshape(-1, 1))"
   ]
  },
  {
   "cell_type": "code",
   "execution_count": null,
   "metadata": {},
   "outputs": [],
   "source": [
    "food_recipes_dataset = {\n",
    "    'users_features': users_features,\n",
    "    'items_features': items_features,\n",
    "    'train_edge_index': train_edge_index,\n",
    "    'val_edge_index': val_edge_index\n",
    "}"
   ]
  },
  {
   "cell_type": "code",
   "execution_count": null,
   "metadata": {},
   "outputs": [],
   "source": [
    "with open('datasets/food_recipes_dataset.bin', 'wb') as f:\n",
    "    pickle.dump(food_recipes_dataset, f)"
   ]
  }
 ],
 "metadata": {
  "kernelspec": {
   "display_name": ".venv",
   "language": "python",
   "name": "python3"
  },
  "language_info": {
   "codemirror_mode": {
    "name": "ipython",
    "version": 3
   },
   "file_extension": ".py",
   "mimetype": "text/x-python",
   "name": "python",
   "nbconvert_exporter": "python",
   "pygments_lexer": "ipython3",
   "version": "3.12.7"
  }
 },
 "nbformat": 4,
 "nbformat_minor": 4
}
