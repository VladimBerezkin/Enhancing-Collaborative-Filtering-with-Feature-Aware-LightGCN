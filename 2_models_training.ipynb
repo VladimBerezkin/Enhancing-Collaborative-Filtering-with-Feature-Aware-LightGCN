{
 "cells": [
  {
   "cell_type": "code",
   "execution_count": null,
   "metadata": {},
   "outputs": [],
   "source": [
    "import random\n",
    "\n",
    "import torch\n",
    "import pickle\n",
    "from torch import nn, optim\n",
    "from torch_geometric.nn import LGConv\n",
    "\n",
    "import utils\n",
    "from models import (\n",
    "    LightGCN,\n",
    "    LightGCNPlus0,\n",
    "    LightGCNPlus1,\n",
    "    LightGCNPlus2,\n",
    "    LightGCNPlus3\n",
    ")"
   ]
  },
  {
   "cell_type": "code",
   "execution_count": null,
   "metadata": {},
   "outputs": [],
   "source": [
    "random.seed(utils.SEED)\n",
    "torch.manual_seed(utils.SEED)\n",
    "torch.cuda.manual_seed_all(utils.SEED)\n",
    "torch.set_num_threads(10)"
   ]
  },
  {
   "cell_type": "markdown",
   "metadata": {},
   "source": [
    "## Loading Dataset"
   ]
  },
  {
   "cell_type": "code",
   "execution_count": null,
   "metadata": {},
   "outputs": [],
   "source": [
    "DATASET_NAME = 'book_crossing'"
   ]
  },
  {
   "cell_type": "code",
   "execution_count": null,
   "metadata": {},
   "outputs": [],
   "source": [
    "with open(f'datasets/{DATASET_NAME}_dataset.bin', 'rb') as f:\n",
    "    book_crossing_dataset = pickle.load(f)"
   ]
  },
  {
   "cell_type": "code",
   "execution_count": null,
   "metadata": {},
   "outputs": [],
   "source": [
    "users_features = book_crossing_dataset['users_features']\n",
    "items_features = book_crossing_dataset['items_features']\n",
    "train_edge_index = book_crossing_dataset['train_edge_index']\n",
    "val_edge_index = book_crossing_dataset['val_edge_index']"
   ]
  },
  {
   "cell_type": "markdown",
   "metadata": {},
   "source": [
    "## Training and Evaluation Parameters"
   ]
  },
  {
   "cell_type": "code",
   "execution_count": null,
   "metadata": {},
   "outputs": [],
   "source": [
    "K = 20\n",
    "LAMBDA = 1e-6\n",
    "BATCH_SIZE = 1024\n",
    "N_BATCH = int(train_edge_index.shape[1]/BATCH_SIZE)\n",
    "N_EPOCHS = 40\n",
    "EMBEDDING_DIMENSION = 64"
   ]
  },
  {
   "cell_type": "code",
   "execution_count": null,
   "metadata": {},
   "outputs": [],
   "source": [
    "device = torch.device('cuda' if torch.cuda.is_available() else 'cpu')"
   ]
  },
  {
   "cell_type": "code",
   "execution_count": null,
   "metadata": {},
   "outputs": [],
   "source": [
    "train_edge_index = train_edge_index.to(device)\n",
    "val_edge_index = val_edge_index.to(device)\n",
    "users_features = users_features.to(device)\n",
    "items_features = items_features.to(device)"
   ]
  },
  {
   "cell_type": "code",
   "execution_count": null,
   "metadata": {},
   "outputs": [],
   "source": [
    "num_users = users_features.shape[0]\n",
    "num_items = items_features.shape[0]"
   ]
  },
  {
   "cell_type": "code",
   "execution_count": null,
   "metadata": {},
   "outputs": [],
   "source": [
    "USER_PROJ = torch.rand(users_features.shape[1], EMBEDDING_DIMENSION)\n",
    "ITEM_PROJ = torch.rand(items_features.shape[1], EMBEDDING_DIMENSION)"
   ]
  },
  {
   "cell_type": "code",
   "execution_count": null,
   "metadata": {},
   "outputs": [],
   "source": [
    "EMB_USERS = nn.Embedding(num_embeddings=num_users, embedding_dim=EMBEDDING_DIMENSION)\n",
    "EMB_ITEMS = nn.Embedding(num_embeddings=num_items, embedding_dim=EMBEDDING_DIMENSION)\n",
    "\n",
    "nn.init.normal_(EMB_USERS.weight, std=0.01)\n",
    "nn.init.normal_(EMB_ITEMS.weight, std=0.01);"
   ]
  },
  {
   "cell_type": "code",
   "execution_count": null,
   "metadata": {},
   "outputs": [],
   "source": [
    "%matplotlib agg\n",
    "plot = utils.Plot()"
   ]
  },
  {
   "cell_type": "markdown",
   "metadata": {},
   "source": [
    "## Basic LightGCN"
   ]
  },
  {
   "cell_type": "code",
   "execution_count": null,
   "metadata": {},
   "outputs": [],
   "source": [
    "basic_lightgcn_model = LightGCN(EMB_USERS, EMB_ITEMS).to(device)"
   ]
  },
  {
   "cell_type": "code",
   "execution_count": null,
   "metadata": {},
   "outputs": [],
   "source": [
    "lightgcn_result = utils.training_routine(\n",
    "    basic_lightgcn_model,\n",
    "    'LightGCN',\n",
    "    DATASET_NAME,\n",
    "    train_edge_index,\n",
    "    val_edge_index,\n",
    "    N_EPOCHS,\n",
    "    N_BATCH,\n",
    "    BATCH_SIZE,\n",
    "    LAMBDA,\n",
    "    K\n",
    ")"
   ]
  },
  {
   "cell_type": "code",
   "execution_count": null,
   "metadata": {},
   "outputs": [],
   "source": [
    "plot.add(lightgcn_result, 'LightGCN')"
   ]
  },
  {
   "cell_type": "code",
   "execution_count": null,
   "metadata": {},
   "outputs": [],
   "source": [
    "%matplotlib inline\n",
    "plot.fig"
   ]
  },
  {
   "cell_type": "code",
   "execution_count": null,
   "metadata": {},
   "outputs": [],
   "source": [
    "utils.save_result(basic_lightgcn_model, lightgcn_result, DATASET_NAME, 'LightGCN')"
   ]
  },
  {
   "cell_type": "markdown",
   "metadata": {},
   "source": [
    "## LightGCN+ (solution 0)"
   ]
  },
  {
   "cell_type": "code",
   "execution_count": null,
   "metadata": {},
   "outputs": [],
   "source": [
    "lightgcnplus0_model = LightGCNPlus0(EMB_USERS, EMB_ITEMS, users_features, items_features, USER_PROJ, ITEM_PROJ).to(device)"
   ]
  },
  {
   "cell_type": "code",
   "execution_count": null,
   "metadata": {},
   "outputs": [],
   "source": [
    "lightgcnplus0_result = utils.training_routine(\n",
    "    lightgcnplus0_model,\n",
    "    'LightGCN+ (solution 0)',\n",
    "    DATASET_NAME,\n",
    "    train_edge_index,\n",
    "    val_edge_index,\n",
    "    N_EPOCHS,\n",
    "    N_BATCH,\n",
    "    BATCH_SIZE,\n",
    "    LAMBDA,\n",
    "    K\n",
    ")"
   ]
  },
  {
   "cell_type": "code",
   "execution_count": null,
   "metadata": {},
   "outputs": [],
   "source": [
    "plot.add(lightgcnplus0_result, 'LightGCN+ (scenario 0)')"
   ]
  },
  {
   "cell_type": "code",
   "execution_count": null,
   "metadata": {},
   "outputs": [],
   "source": [
    "%matplotlib inline\n",
    "plot.fig"
   ]
  },
  {
   "cell_type": "code",
   "execution_count": null,
   "metadata": {},
   "outputs": [],
   "source": [
    "utils.save_result(lightgcnplus0_model, lightgcnplus0_result, DATASET_NAME, 'LightGCN+_scenario_0')"
   ]
  },
  {
   "cell_type": "markdown",
   "metadata": {},
   "source": [
    "## LightGCN+ (solution 1) "
   ]
  },
  {
   "cell_type": "code",
   "execution_count": null,
   "metadata": {},
   "outputs": [],
   "source": [
    "lightgcnplus1_model = LightGCNPlus1(EMB_USERS, EMB_ITEMS, users_features, items_features, USER_PROJ, ITEM_PROJ).to(device)"
   ]
  },
  {
   "cell_type": "code",
   "execution_count": null,
   "metadata": {},
   "outputs": [],
   "source": [
    "lightgcnplus1_result = utils.training_routine(\n",
    "    lightgcnplus1_model,\n",
    "    'LightGCN+ (solution 1)',\n",
    "    DATASET_NAME,\n",
    "    train_edge_index,\n",
    "    val_edge_index,\n",
    "    N_EPOCHS,\n",
    "    N_BATCH,\n",
    "    BATCH_SIZE,\n",
    "    LAMBDA,\n",
    "    K\n",
    ")"
   ]
  },
  {
   "cell_type": "code",
   "execution_count": null,
   "metadata": {},
   "outputs": [],
   "source": [
    "plot.add(lightgcnplus1_result, 'LightGCN+ (scenario 1)')"
   ]
  },
  {
   "cell_type": "code",
   "execution_count": null,
   "metadata": {},
   "outputs": [],
   "source": [
    "%matplotlib inline\n",
    "plot.fig"
   ]
  },
  {
   "cell_type": "code",
   "execution_count": null,
   "metadata": {},
   "outputs": [],
   "source": [
    "utils.save_result(lightgcnplus1_model, lightgcnplus1_result, DATASET_NAME, 'LightGCN+_scenario_1')"
   ]
  },
  {
   "cell_type": "markdown",
   "metadata": {},
   "source": [
    "## LightGCN+ (solution 2) "
   ]
  },
  {
   "cell_type": "code",
   "execution_count": null,
   "metadata": {},
   "outputs": [],
   "source": [
    "model_name_2 = 'LightGCN+_2'"
   ]
  },
  {
   "cell_type": "code",
   "execution_count": null,
   "metadata": {},
   "outputs": [],
   "source": [
    "lightgcnplus2_model = LightGCNPlus2(EMB_USERS, EMB_ITEMS, users_features, items_features, USER_PROJ, ITEM_PROJ).to(device)"
   ]
  },
  {
   "cell_type": "code",
   "execution_count": null,
   "metadata": {},
   "outputs": [],
   "source": [
    "lightgcnplus2_result = utils.training_routine(\n",
    "    lightgcnplus2_model,\n",
    "    'LightGCN+ (solution 2)',\n",
    "    DATASET_NAME,\n",
    "    train_edge_index,\n",
    "    val_edge_index,\n",
    "    N_EPOCHS,\n",
    "    N_BATCH,\n",
    "    BATCH_SIZE,\n",
    "    LAMBDA,\n",
    "    K\n",
    ")"
   ]
  },
  {
   "cell_type": "code",
   "execution_count": null,
   "metadata": {},
   "outputs": [],
   "source": [
    "plot.add(lightgcnplus2_result, 'LightGCN+ (scenario 2)')"
   ]
  },
  {
   "cell_type": "code",
   "execution_count": null,
   "metadata": {},
   "outputs": [],
   "source": [
    "%matplotlib inline\n",
    "plot.fig"
   ]
  },
  {
   "cell_type": "code",
   "execution_count": null,
   "metadata": {},
   "outputs": [],
   "source": [
    "utils.save_result(lightgcnplus2_model, lightgcnplus2_result, DATASET_NAME, 'LightGCN+_scenario_2')"
   ]
  },
  {
   "cell_type": "markdown",
   "metadata": {},
   "source": [
    "## LightGCN+ (solution 3) "
   ]
  },
  {
   "cell_type": "code",
   "execution_count": null,
   "metadata": {},
   "outputs": [],
   "source": [
    "lightgcnplus3_model = LightGCNPlus3(EMB_USERS, EMB_ITEMS, users_features, items_features, USER_PROJ, ITEM_PROJ).to(device)"
   ]
  },
  {
   "cell_type": "code",
   "execution_count": null,
   "metadata": {},
   "outputs": [],
   "source": [
    "lightgcnplus3_result = utils.training_routine(\n",
    "    lightgcnplus3_model,\n",
    "    'LightGCN+ (solution 3)',\n",
    "    DATASET_NAME,\n",
    "    train_edge_index,\n",
    "    val_edge_index,\n",
    "    N_EPOCHS,\n",
    "    N_BATCH,\n",
    "    BATCH_SIZE,\n",
    "    LAMBDA,\n",
    "    K\n",
    ")"
   ]
  },
  {
   "cell_type": "code",
   "execution_count": null,
   "metadata": {},
   "outputs": [],
   "source": [
    "plot.add(lightgcnplus3_result, 'LightGCN+ (scenario 3)')"
   ]
  },
  {
   "cell_type": "code",
   "execution_count": null,
   "metadata": {},
   "outputs": [],
   "source": [
    "%matplotlib inline\n",
    "plot.fig"
   ]
  },
  {
   "cell_type": "code",
   "execution_count": null,
   "metadata": {},
   "outputs": [],
   "source": [
    "utils.save_result(lightgcnplus3_model, lightgcnplus3_result, DATASET_NAME, 'LightGCN+_scenario_3')"
   ]
  }
 ],
 "metadata": {
  "kernelspec": {
   "display_name": ".venv",
   "language": "python",
   "name": "python3"
  },
  "language_info": {
   "codemirror_mode": {
    "name": "ipython",
    "version": 3
   },
   "file_extension": ".py",
   "mimetype": "text/x-python",
   "name": "python",
   "nbconvert_exporter": "python",
   "pygments_lexer": "ipython3",
   "version": "3.12.7"
  }
 },
 "nbformat": 4,
 "nbformat_minor": 2
}
