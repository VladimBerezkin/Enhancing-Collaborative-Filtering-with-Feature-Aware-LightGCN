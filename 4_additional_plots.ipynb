{
 "cells": [
  {
   "cell_type": "code",
   "execution_count": null,
   "metadata": {},
   "outputs": [],
   "source": [
    "import os\n",
    "import json\n",
    "\n",
    "import numpy as np\n",
    "import pandas as pd\n",
    "import matplotlib.pyplot as plt"
   ]
  },
  {
   "cell_type": "code",
   "execution_count": null,
   "metadata": {},
   "outputs": [],
   "source": [
    "plt.style.use('seaborn-v0_8')"
   ]
  },
  {
   "cell_type": "code",
   "execution_count": null,
   "metadata": {},
   "outputs": [],
   "source": [
    "def read_results():\n",
    "    results = {\n",
    "        'book_crossing': [],\n",
    "        'movies': [],\n",
    "        'food_recipes': [],\n",
    "        'steam_video_games': []\n",
    "    }\n",
    "    for filename in os.listdir('results'):\n",
    "        for ds in results.keys():\n",
    "            if ds in filename:\n",
    "                file_path = os.path.join('results', filename)\n",
    "                with open(file_path, 'r', encoding='utf-8') as file:\n",
    "                    result = json.load(file)\n",
    "                    results[ds].append(result)\n",
    "    return results"
   ]
  },
  {
   "cell_type": "code",
   "execution_count": null,
   "metadata": {},
   "outputs": [],
   "source": [
    "RESULTS = read_results()\n",
    "results_list = RESULTS[\"book_crossing\"]"
   ]
  },
  {
   "cell_type": "code",
   "execution_count": null,
   "metadata": {},
   "outputs": [],
   "source": [
    "def plot_solution_1_params(results_list):\n",
    "    for result in results_list:\n",
    "        if result['model_name'] == 'LightGCN+ (solution 1)':\n",
    "            break\n",
    "    model_params = np.array(result['model_params'])\n",
    "    user_alpha, item_alpha = model_params[:, 0], model_params[:, 1]\n",
    "    fig, ax = plt.subplots(figsize=(8, 4))\n",
    "    if np.unique(user_alpha).shape[0] > 1:\n",
    "        ax.plot(user_alpha, label=r'$\\beta_{user}$')\n",
    "    if np.unique(item_alpha).shape[0] > 1:\n",
    "        ax.plot(item_alpha, label=r'$\\beta_{item}$')\n",
    "    ax.set_title(f'{result[\"model_name\"]} parameters', fontweight='bold')\n",
    "    ax.set_xlabel('epoch', fontweight='bold')\n",
    "    ax.set_ylabel('value', fontweight='bold')\n",
    "    ax.legend()\n",
    "    plt.tight_layout()\n",
    "    plt.show()"
   ]
  },
  {
   "cell_type": "code",
   "execution_count": null,
   "metadata": {},
   "outputs": [],
   "source": [
    "plot_solution_1_params(results_list)"
   ]
  },
  {
   "cell_type": "code",
   "execution_count": null,
   "metadata": {},
   "outputs": [],
   "source": [
    "def plot_solution_2_params(results_list):\n",
    "    for result in results_list:\n",
    "        if result['model_name'] == 'LightGCN+ (solution 2)':\n",
    "            break\n",
    "    model_params = np.array(result['model_params'])\n",
    "    user_coefs_vector = model_params[:, 0, :]\n",
    "    item_coefs_vector = model_params[:, 1, :]\n",
    "    \n",
    "    fig, axs = plt.subplots(2, 1, figsize=(8, 6))\n",
    "    if np.unique(item_coefs_vector).shape[0] > 1:\n",
    "        im_items = axs[0].imshow(item_coefs_vector.T, cmap='viridis', aspect='auto')\n",
    "        fig.colorbar(im_items, ax=axs[0], fraction=0.046, pad=0.04)\n",
    "        axs[0].grid(False)\n",
    "\n",
    "    if np.unique(user_coefs_vector).shape[0] > 1:\n",
    "        im_users = axs[1].imshow(user_coefs_vector.T, cmap='viridis', aspect='auto')\n",
    "        fig.colorbar(im_users, ax=axs[1], fraction=0.046, pad=0.04)\n",
    "        axs[1].grid(False)\n",
    "\n",
    "    axs[0].set_title('Item Coefficients Vector', fontweight='bold')\n",
    "    axs[1].set_title('User Coefficients Vector', fontweight='bold')\n",
    "    axs[0].set_xlabel('epoch', fontweight='bold')\n",
    "    axs[1].set_xlabel('epoch', fontweight='bold')\n",
    "    axs[0].set_ylabel('embdedding dimension', fontweight='bold')\n",
    "    axs[1].set_ylabel('embdedding dimension', fontweight='bold')\n",
    "    plt.tight_layout()\n",
    "    plt.show()"
   ]
  },
  {
   "cell_type": "code",
   "execution_count": null,
   "metadata": {},
   "outputs": [],
   "source": [
    "plot_solution_2_params(results_list)"
   ]
  },
  {
   "cell_type": "code",
   "execution_count": null,
   "metadata": {},
   "outputs": [],
   "source": [
    "def plot_solution_3_params(results_list, K):\n",
    "    for result in results_list:\n",
    "        if result['model_name'] == 'LightGCN+ (solution 3)':\n",
    "            break\n",
    "\n",
    "    inds = np.linspace(0, 39, K).astype(int)\n",
    "    fig, ax = plt.subplots(2, K, figsize=(14, 6))\n",
    "\n",
    "    for i in range(K):\n",
    "        user_proj_matrix = np.array(result['model_params'][inds[i]][0])\n",
    "        item_proj_matrix = np.array(result['model_params'][inds[i]][1])\n",
    "        im = ax[0, i].imshow(user_proj_matrix, cmap='viridis', aspect='auto')\n",
    "        fig.colorbar(im, ax=ax[0, i], fraction=0.046, pad=0.04)\n",
    "        ax[0, i].grid(False)\n",
    "        im = ax[1, i].imshow(item_proj_matrix, cmap='viridis', aspect='auto')\n",
    "        fig.colorbar(im, ax=ax[1, i], fraction=0.046, pad=0.04)\n",
    "        ax[1, i].grid(False)\n",
    "        ax[1, i].set_title(f'Epoch {inds[i] + 1}', fontweight='bold', fontsize=12)\n",
    "\n",
    "\n",
    "    ax[0, 0].set_ylabel('User Transformation Matrix', fontweight='bold', fontsize=12)\n",
    "    ax[1, 0].set_ylabel('Item Transformation Matrix', fontweight='bold', fontsize=12)\n",
    "\n",
    "    plt.tight_layout()"
   ]
  },
  {
   "cell_type": "code",
   "execution_count": null,
   "metadata": {},
   "outputs": [],
   "source": [
    "plot_solution_3_params(results_list, 5)"
   ]
  },
  {
   "cell_type": "code",
   "execution_count": null,
   "metadata": {},
   "outputs": [],
   "source": [
    "def plot_validation_metrics_for_dataset(dataset_name):\n",
    "    fig, ax = plt.subplots(2, 1, figsize=(10, 8))\n",
    "    results_list = RESULTS[dataset_name]\n",
    "    for result in results_list:\n",
    "        label = result['model_name']\n",
    "        ax[0].plot(result['val_recall'], label=label)\n",
    "        ax[1].plot(result['val_ndcg'], label=label)\n",
    "        ax[0].set_title('Validation Recall@20', fontweight='bold')\n",
    "        ax[1].set_title('Validation NDCG@20', fontweight='bold')\n",
    "        for i in range(2):\n",
    "            ax[i].set_xlabel('epoch', fontweight='bold')\n",
    "            ax[i].set_ylabel('value', fontweight='bold')\n",
    "            ax[i].legend()\n",
    "    plt.tight_layout()\n"
   ]
  },
  {
   "cell_type": "code",
   "execution_count": null,
   "metadata": {},
   "outputs": [],
   "source": [
    "plot_validation_metrics_for_dataset('movies')"
   ]
  },
  {
   "cell_type": "code",
   "execution_count": null,
   "metadata": {},
   "outputs": [],
   "source": [
    "RESULTS = read_results()\n",
    "results_list = RESULTS[\"food_recipes\"]"
   ]
  },
  {
   "cell_type": "code",
   "execution_count": null,
   "metadata": {},
   "outputs": [],
   "source": [
    "training_time = {\n",
    "    'LightGCN': 0,\n",
    "    'LightGCN+ (solution 0)': 0,\n",
    "    'LightGCN+ (solution 1)': 0,\n",
    "    'LightGCN+ (solution 2)': 0,\n",
    "    'LightGCN+ (solution 3)': 0\n",
    "}\n",
    "\n",
    "model_names = []\n",
    "\n",
    "for result in results_list:\n",
    "    n_epochs = len(result['train_loss'])\n",
    "    training_time[result['model_name']] = result['training_time'] / n_epochs\n",
    "\n",
    "fig, ax = plt.subplots(figsize=(9, 4))\n",
    "ax.bar(training_time.keys(), training_time.values(), width=0.25)\n",
    "ax.set_title('Training time per epoch', fontweight='bold')\n",
    "ax.set_ylabel('seconds', fontweight='bold')\n",
    "# ax.set_ylim(bottom=0.95*training_time['LightGCN'])\n",
    "ax.set_xticklabels(list(training_time.keys()), fontweight='bold')\n",
    "plt.tight_layout()"
   ]
  },
  {
   "cell_type": "code",
   "execution_count": null,
   "metadata": {},
   "outputs": [],
   "source": [
    "results_summary = []\n",
    "\n",
    "datasets_names_list = ['book_crossing', 'movies', 'food_recipes']\n",
    "model_names_list = ['LightGCN', 'LightGCN+ (solution 0)', 'LightGCN+ (solution 1)', 'LightGCN+ (solution 2)', 'LightGCN+ (solution 3)']\n",
    "\n",
    "for dataset_name in datasets_names_list:\n",
    "    for model_name in model_names_list:\n",
    "        results_list = RESULTS[dataset_name]\n",
    "        for result in results_list:\n",
    "            if result['model_name'] == model_name:\n",
    "                best_ind = np.argmax(result['val_ndcg'])\n",
    "                results_summary.append((dataset_name, model_name, result['val_ndcg'][best_ind], result['val_recall'][best_ind], result['training_time']/40))\n",
    "\n",
    "results_summary = pd.DataFrame(results_summary, columns=['dataset', 'model_name', 'ndcg', 'recall', 'training_time'])"
   ]
  },
  {
   "cell_type": "code",
   "execution_count": null,
   "metadata": {},
   "outputs": [],
   "source": [
    "results_summary"
   ]
  }
 ],
 "metadata": {
  "kernelspec": {
   "display_name": ".venv",
   "language": "python",
   "name": "python3"
  },
  "language_info": {
   "codemirror_mode": {
    "name": "ipython",
    "version": 3
   },
   "file_extension": ".py",
   "mimetype": "text/x-python",
   "name": "python",
   "nbconvert_exporter": "python",
   "pygments_lexer": "ipython3",
   "version": "3.12.7"
  }
 },
 "nbformat": 4,
 "nbformat_minor": 2
}
